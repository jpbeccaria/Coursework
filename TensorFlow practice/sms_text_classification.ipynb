{
  "cells": [
    {
      "cell_type": "markdown",
      "metadata": {
        "id": "Eg62Pmz3o83v"
      },
      "source": [
        "*Note: You are currently reading this using Google Colaboratory which is a cloud-hosted version of Jupyter Notebook. This is a document containing both text cells for documentation and runnable code cells. If you are unfamiliar with Jupyter Notebook, watch this 3-minute introduction before starting this challenge: https://www.youtube.com/watch?v=inN8seMm7UI*\n",
        "\n",
        "---\n",
        "\n",
        "In this challenge, you need to create a machine learning model that will classify SMS messages as either \"ham\" or \"spam\". A \"ham\" message is a normal message sent by a friend. A \"spam\" message is an advertisement or a message sent by a company.\n",
        "\n",
        "You should create a function called `predict_message` that takes a message string as an argument and returns a list. The first element in the list should be a number between zero and one that indicates the likeliness of \"ham\" (0) or \"spam\" (1). The second element in the list should be the word \"ham\" or \"spam\", depending on which is most likely.\n",
        "\n",
        "For this challenge, you will use the [SMS Spam Collection dataset](http://www.dt.fee.unicamp.br/~tiago/smsspamcollection/). The dataset has already been grouped into train data and test data.\n",
        "\n",
        "The first two cells import the libraries and data. The final cell tests your model and function. Add your code in between these cells.\n"
      ]
    },
    {
      "cell_type": "code",
      "execution_count": null,
      "metadata": {
        "id": "8RZOuS9LWQvv"
      },
      "outputs": [],
      "source": [
        "import tensorflow as tf\n",
        "import pandas as pd\n",
        "from tensorflow import keras\n",
        "import tensorflow_datasets as tfds\n",
        "import numpy as np\n",
        "import matplotlib.pyplot as plt\n",
        "\n",
        "from keras.preprocessing import sequence\n",
        "from tensorflow.keras import layers\n",
        "\n",
        "print(tf.__version__)"
      ]
    },
    {
      "cell_type": "code",
      "execution_count": null,
      "metadata": {
        "id": "lMHwYXHXCar3"
      },
      "outputs": [],
      "source": [
        "# get data files\n",
        "!wget https://cdn.freecodecamp.org/project-data/sms/train-data.tsv\n",
        "!wget https://cdn.freecodecamp.org/project-data/sms/valid-data.tsv\n",
        "\n",
        "train_file_path = \"train-data.tsv\"\n",
        "test_file_path = \"valid-data.tsv\""
      ]
    },
    {
      "cell_type": "code",
      "execution_count": null,
      "metadata": {
        "id": "g_h508FEClxO"
      },
      "outputs": [],
      "source": [
        "train_dataset = pd.read_csv(train_file_path, header = 0, names = ['y', 'x'],  sep='\\t', encoding = \"utf-8\")\n",
        "test_dataset = pd.read_csv(test_file_path, header = 0, names = ['y', 'x'], sep='\\t', encoding = \"utf-8\")\n",
        "\n",
        "train_dataset.head()\n",
        "train_dataset['x'].describe()\n",
        "\n",
        "# Creating labesls\n",
        "train_labels = train_dataset.pop('y')\n",
        "test_labels = test_dataset.pop('y')\n"
      ]
    },
    {
      "cell_type": "code",
      "source": [
        "# Cleaning data\n",
        "import regex as re\n",
        "def cleaningTweets(twt):\n",
        "    twt = re.sub('@[A-ZÜÄÖa-züäöß0-9]+', '', twt)\n",
        "    twt = re.sub('#', '', twt)\n",
        "    twt = re.sub('https?:\\/\\/\\+', '', twt)\n",
        "    return twt\n",
        "\n",
        "train_dataset.x = train_dataset.x.apply(cleaningTweets)\n",
        "test_dataset.x = test_dataset.x.apply(cleaningTweets)"
      ],
      "metadata": {
        "id": "j1EMkoeh4JLG"
      },
      "execution_count": null,
      "outputs": []
    },
    {
      "cell_type": "code",
      "source": [
        "from keras.preprocessing.text import hashing_trick\n",
        "from keras.preprocessing.text import text_to_word_sequence\n",
        "\n",
        "# Defining vocabulary and vocal size \n",
        "total_words = set()\n",
        "for e in train_dataset.x.index:\n",
        "  text = train_dataset.x[e]\n",
        "  words = set(text_to_word_sequence(text))\n",
        "  for w in words:\n",
        "    if w not in total_words:\n",
        "      total_words.add(w)\n",
        "\n"
      ],
      "metadata": {
        "id": "dULTQ4lw88x4"
      },
      "execution_count": null,
      "outputs": []
    },
    {
      "cell_type": "code",
      "source": [
        "for e in test_dataset.x.index:\n",
        "  text = test_dataset.x[e]\n",
        "  words = set(text_to_word_sequence(text))\n",
        "  for w in words:\n",
        "    if w not in total_words:\n",
        "      total_words.add(w)\n"
      ],
      "metadata": {
        "id": "PdJsAUfeFRje"
      },
      "execution_count": null,
      "outputs": []
    },
    {
      "cell_type": "code",
      "source": [
        "VOCAB_SIZE = len(total_words)\n",
        "print(VOCAB_SIZE)"
      ],
      "metadata": {
        "id": "xxl7a9mcFLRw"
      },
      "execution_count": null,
      "outputs": []
    },
    {
      "cell_type": "code",
      "source": [
        "# Encoding strings into numbers using hashing_trick. I decide to use a word per word analysisn (I trided character per charachet but I doesn't complete the challenge!)\n",
        "for e in train_dataset.x.index:\n",
        "  train_dataset.x[e] = hashing_trick(train_dataset.x[e], round(vocab_size*1.3), hash_function='md5')"
      ],
      "metadata": {
        "id": "_nyx6ROcFu6u"
      },
      "execution_count": null,
      "outputs": []
    },
    {
      "cell_type": "code",
      "source": [
        "for e in test_dataset.x.index:\n",
        "  test_dataset.x[e] = hashing_trick(test_dataset.x[e], round(vocab_size*1.3), hash_function='md5')"
      ],
      "metadata": {
        "id": "U4rKazjLF-JA"
      },
      "execution_count": null,
      "outputs": []
    },
    {
      "cell_type": "code",
      "source": [
        "# Transforming labels from \"ham\"/\"spam\" into 0/1\n",
        "train_labels = pd.factorize(train_labels)[0]\n",
        "test_labels = pd.factorize(test_labels)[0]"
      ],
      "metadata": {
        "id": "N2utsjjzJa0O"
      },
      "execution_count": null,
      "outputs": []
    },
    {
      "cell_type": "code",
      "source": [
        "# Transforming dataframe into array\n",
        "train_dataset.to_numpy()\n",
        "test_dataset.to_numpy()"
      ],
      "metadata": {
        "id": "uHsNcnFZJasL"
      },
      "execution_count": null,
      "outputs": []
    },
    {
      "cell_type": "code",
      "source": [
        "train_dataset[0].size"
      ],
      "metadata": {
        "id": "6ate-ZVPICwh"
      },
      "execution_count": null,
      "outputs": []
    },
    {
      "cell_type": "code",
      "source": [
        "# homogenizing sizes\n",
        "\n",
        "MAXLEN = 250\n",
        "train_dataset = sequence.pad_sequences(train_dataset.x, MAXLEN)\n",
        "test_dataset = sequence.pad_sequences(test_dataset.x, MAXLEN)\n"
      ],
      "metadata": {
        "id": "wURrZRfgGezu"
      },
      "execution_count": null,
      "outputs": []
    },
    {
      "cell_type": "code",
      "source": [
        "# Creating the model\n",
        "model = tf.keras.Sequential([\n",
        "    tf.keras.layers.Embedding(10000, 32),\n",
        "    tf.keras.layers.LSTM(32),\n",
        "    tf.keras.layers.Dense(1, activation=\"sigmoid\")\n",
        "])\n",
        "\n",
        "model.compile(loss=tf.keras.losses.BinaryCrossentropy(from_logits=True), optimizer='Adam', metrics=['accuracy'])"
      ],
      "metadata": {
        "id": "uM9lQasYGes6"
      },
      "execution_count": null,
      "outputs": []
    },
    {
      "cell_type": "code",
      "source": [
        "history = model.fit(train_dataset, train_labels, epochs=10, validation_split=0.2)"
      ],
      "metadata": {
        "id": "sM_GBgN9Gep8"
      },
      "execution_count": null,
      "outputs": []
    },
    {
      "cell_type": "code",
      "execution_count": null,
      "metadata": {
        "id": "J9tD9yACG6M9"
      },
      "outputs": [],
      "source": [
        "# function to predict messages based on model\n",
        "# (should return list containing prediction and label, ex. [0.008318834938108921, 'ham'])\n",
        "def predict_message(pred_text):\n",
        "\n",
        "  text_in_numbers = hashing_trick(pred_text, round(vocab_size*1.3), hash_function='md5')\n",
        "  text_in_array = sequence.pad_sequences([text_in_numbers], MAXLEN)\n",
        "  prediction = model.predict(text_in_array)\n",
        "  if prediction[0] >= 0.5:\n",
        "    result = [float(prediction[0]), 'spam']\n",
        "  else:\n",
        "    result = [float(prediction[0]), 'ham']\n",
        "  return result\n",
        "\n",
        "pred_text = \"our new mobile video service is live. just install on your phone to start watching.\"\n",
        "\n",
        "prediction = predict_message(pred_text)\n",
        "print(prediction)"
      ]
    },
    {
      "cell_type": "code",
      "execution_count": null,
      "metadata": {
        "id": "Dxotov85SjsC"
      },
      "outputs": [],
      "source": [
        "# Run this cell to test your function and model. Do not modify contents.\n",
        "def test_predictions():\n",
        "  test_messages = [\"how are you doing today\",\n",
        "                   \"sale today! to stop texts call 98912460324\",\n",
        "                   \"i dont want to go. can we try it a different day? available sat\",\n",
        "                   \"our new mobile video service is live. just install on your phone to start watching.\",\n",
        "                   \"you have won £1000 cash! call to claim your prize.\",\n",
        "                   \"i'll bring it tomorrow. don't forget the milk.\",\n",
        "                   \"wow, is your arm alright. that happened to me one time too\"\n",
        "                  ]\n",
        "\n",
        "  test_answers = [\"ham\", \"spam\", \"ham\", \"spam\", \"spam\", \"ham\", \"ham\"]\n",
        "  passed = True\n",
        "\n",
        "  for msg, ans in zip(test_messages, test_answers):\n",
        "    prediction = predict_message(msg)\n",
        "    if prediction[1] != ans:\n",
        "      passed = False\n",
        "\n",
        "  if passed:\n",
        "    print(\"You passed the challenge. Great job!\")\n",
        "  else:\n",
        "    print(\"You haven't passed yet. Keep trying.\")\n",
        "\n",
        "test_predictions()\n"
      ]
    }
  ],
  "metadata": {
    "colab": {
      "collapsed_sections": [],
      "name": "sms_text_classification.ipynb",
      "private_outputs": true,
      "provenance": [],
      "toc_visible": true
    },
    "kernelspec": {
      "display_name": "Python 3",
      "name": "python3"
    },
    "language_info": {}
  },
  "nbformat": 4,
  "nbformat_minor": 0
}