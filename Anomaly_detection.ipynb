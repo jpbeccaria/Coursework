{
  "nbformat": 4,
  "nbformat_minor": 0,
  "metadata": {
    "colab": {
      "provenance": [],
      "authorship_tag": "ABX9TyOyg7r8hmC5LCrIbxf7zw5P",
      "include_colab_link": true
    },
    "kernelspec": {
      "name": "python3",
      "display_name": "Python 3"
    },
    "language_info": {
      "name": "python"
    }
  },
  "cells": [
    {
      "cell_type": "markdown",
      "metadata": {
        "id": "view-in-github",
        "colab_type": "text"
      },
      "source": [
        "<a href=\"https://colab.research.google.com/github/jpbeccaria/Playroom/blob/main/Anomaly_detection.ipynb\" target=\"_parent\"><img src=\"https://colab.research.google.com/assets/colab-badge.svg\" alt=\"Open In Colab\"/></a>"
      ]
    },
    {
      "cell_type": "code",
      "execution_count": 1,
      "metadata": {
        "id": "ldWdBNZCXPbC"
      },
      "outputs": [],
      "source": [
        "import numpy as np\n",
        "import matplotlib.pyplot as plt\n",
        "# from utils import *\n",
        "\n",
        "# %matplotlib inline"
      ]
    },
    {
      "cell_type": "code",
      "source": [
        "# Load the dataset\n",
        "X_train, X_val, y_val = load_data()"
      ],
      "metadata": {
        "id": "9tZHXZtgXQGj"
      },
      "execution_count": null,
      "outputs": []
    },
    {
      "cell_type": "code",
      "source": [
        "# Display the first five elements of X_train\n",
        "print(\"The first 5 elements of X_train are:\\n\", X_train[:5])  "
      ],
      "metadata": {
        "id": "91A8HfQ_XQI1"
      },
      "execution_count": null,
      "outputs": []
    },
    {
      "cell_type": "code",
      "source": [
        "# Display the first five elements of X_val\n",
        "print(\"The first 5 elements of X_val are\\n\", X_val[:5])  "
      ],
      "metadata": {
        "id": "4XALrLL9XQLH"
      },
      "execution_count": null,
      "outputs": []
    },
    {
      "cell_type": "code",
      "source": [
        "# Display the first five elements of y_val\n",
        "print(\"The first 5 elements of y_val are\\n\", y_val[:5])  "
      ],
      "metadata": {
        "id": "9GBM0TAQXQNY"
      },
      "execution_count": null,
      "outputs": []
    },
    {
      "cell_type": "code",
      "source": [
        "print ('The shape of X_train is:', X_train.shape)\n",
        "print ('The shape of X_val is:', X_val.shape)\n",
        "print ('The shape of y_val is: ', y_val.shape)"
      ],
      "metadata": {
        "id": "-BTJ6rDbXQP8"
      },
      "execution_count": null,
      "outputs": []
    },
    {
      "cell_type": "code",
      "source": [
        "# Create a scatter plot of the data. To change the markers to blue \"x\",\n",
        "# we used the 'marker' and 'c' parameters\n",
        "plt.scatter(X_train[:, 0], X_train[:, 1], marker='x', c='b') \n",
        "\n",
        "# Set the title\n",
        "plt.title(\"The first dataset\")\n",
        "# Set the y-axis label\n",
        "plt.ylabel('Throughput (mb/s)')\n",
        "# Set the x-axis label\n",
        "plt.xlabel('Latency (ms)')\n",
        "# Set axis range\n",
        "plt.axis([0, 30, 0, 30])\n",
        "plt.show()"
      ],
      "metadata": {
        "id": "8XsziSkwXQSe"
      },
      "execution_count": null,
      "outputs": []
    },
    {
      "cell_type": "code",
      "source": [
        "# UNQ_C1\n",
        "# GRADED FUNCTION: estimate_gaussian\n",
        "\n",
        "def estimate_gaussian(X): \n",
        "    \"\"\"\n",
        "    Calculates mean and variance of all features \n",
        "    in the dataset\n",
        "    \n",
        "    Args:\n",
        "        X (ndarray): (m, n) Data matrix\n",
        "    \n",
        "    Returns:\n",
        "        mu (ndarray): (n,) Mean of all features\n",
        "        var (ndarray): (n,) Variance of all features\n",
        "    \"\"\"\n",
        "  \n",
        "    mu = np.sum(X, axis = 0)/m\n",
        "    var= np.sum((X - mu)**2, axis = 0)/m\n",
        "    \n",
        "    return mu, var"
      ],
      "metadata": {
        "id": "aZ51RkHVXQU-"
      },
      "execution_count": null,
      "outputs": []
    },
    {
      "cell_type": "code",
      "source": [
        "def select_threshold(y_val, p_val): \n",
        "    \"\"\"\n",
        "    Finds the best threshold to use for selecting outliers \n",
        "    based on the results from a validation set (p_val) \n",
        "    and the ground truth (y_val)\n",
        "    \n",
        "    Args:\n",
        "        y_val (ndarray): Ground truth on validation set\n",
        "        p_val (ndarray): Results on validation set\n",
        "        \n",
        "    Returns:\n",
        "        epsilon (float): Threshold chosen \n",
        "        F1 (float):      F1 score by choosing epsilon as threshold\n",
        "    \"\"\" \n",
        "\n",
        "    best_epsilon = 0\n",
        "    best_F1 = 0\n",
        "    F1 = 0\n",
        "    \n",
        "    step_size = (max(p_val) - min(p_val)) / 1000\n",
        "    \n",
        "    for epsilon in np.arange(min(p_val), max(p_val), step_size):\n",
        "    \n",
        "        \n",
        "        prediccion = p_val <  epsilon\n",
        "        \n",
        "        comparacion = y_val - prediccion\n",
        "        \n",
        "        # si comparacion da 0, signofica que ambos dicen lo mismo (correcto)\n",
        "        # si da 1 singnifica que era 1 y prefijimos 0 (falso negativo)\n",
        "        # si da -1 significa que era 0 y predijimos 1 (falso positivo)\n",
        "        \n",
        "        # los true positive podemos conseguirlos contado todos los positivos y restandoles los falsos positivos\n",
        "        \n",
        "  \n",
        "        fp = np.count_nonzero(comparacion == -1)\n",
        "        fn = np.count_nonzero(comparacion == 1)\n",
        "        \n",
        "        tp = np.sum(prediccion) - fp\n",
        "        \n",
        "        prec = tp / (tp + fp)\n",
        "        \n",
        "        rec = tp / (tp + fn)\n",
        "        \n",
        "        F1 = (2 * prec * rec) / (prec + rec)\n",
        "        \n",
        "        \n",
        "        if F1 > best_F1:\n",
        "            best_F1 = F1\n",
        "            best_epsilon = epsilon\n",
        "        \n",
        "    return best_epsilon, best_F1"
      ],
      "metadata": {
        "id": "ERCgiJJ_fWV8"
      },
      "execution_count": null,
      "outputs": []
    },
    {
      "cell_type": "code",
      "source": [
        "p_val = multivariate_gaussian(X_val, mu, var)\n",
        "epsilon, F1 = select_threshold(y_val, p_val)\n",
        "\n",
        "print('Best epsilon found using cross-validation: %e' % epsilon)\n",
        "print('Best F1 on Cross Validation Set: %f' % F1)\n",
        "    \n",
        "# UNIT TEST\n",
        "select_threshold_test(select_threshold)\n"
      ],
      "metadata": {
        "colab": {
          "base_uri": "https://localhost:8080/"
        },
        "id": "FU-1KmHUXQXk",
        "outputId": "3db0d97e-b999-4a37-ecb4-04f39ec1316d"
      },
      "execution_count": 3,
      "outputs": [
        {
          "output_type": "execute_result",
          "data": {
            "text/plain": [
              "array([[0.05],\n",
              "       [0.05],\n",
              "       [0.04],\n",
              "       [0.02],\n",
              "       [0.06]])"
            ]
          },
          "metadata": {},
          "execution_count": 3
        }
      ]
    },
    {
      "cell_type": "code",
      "source": [
        "# Find the outliers in the training set \n",
        "outliers = p < epsilon\n",
        "\n",
        "# Visualize the fit\n",
        "visualize_fit(X_train, mu, var)\n",
        "\n",
        "# Draw a red circle around those outliers\n",
        "plt.plot(X_train[outliers, 0], X_train[outliers, 1], 'ro',\n",
        "         markersize= 10,markerfacecolor='none', markeredgewidth=2)"
      ],
      "metadata": {
        "colab": {
          "base_uri": "https://localhost:8080/"
        },
        "id": "RgKT4I-2XQZ6",
        "outputId": "70d13f0d-b0e1-49c3-a5fe-943cbc70eeda"
      },
      "execution_count": 5,
      "outputs": [
        {
          "output_type": "execute_result",
          "data": {
            "text/plain": [
              "array([[False],\n",
              "       [False],\n",
              "       [ True],\n",
              "       [ True],\n",
              "       [False]])"
            ]
          },
          "metadata": {},
          "execution_count": 5
        }
      ]
    },
    {
      "cell_type": "code",
      "source": [
        "# load the dataset\n",
        "X_train_high, X_val_high, y_val_high = load_data_multi()"
      ],
      "metadata": {
        "colab": {
          "base_uri": "https://localhost:8080/"
        },
        "id": "kI3VgdTcXQcK",
        "outputId": "8e3d9c25-9611-47c2-d86c-f3c574b78e0f"
      },
      "execution_count": 13,
      "outputs": [
        {
          "output_type": "execute_result",
          "data": {
            "text/plain": [
              "array([[1],\n",
              "       [0],\n",
              "       [1],\n",
              "       [0],\n",
              "       [1]])"
            ]
          },
          "metadata": {},
          "execution_count": 13
        }
      ]
    },
    {
      "cell_type": "code",
      "source": [
        "print ('The shape of X_train_high is:', X_train_high.shape)\n",
        "print ('The shape of X_val_high is:', X_val_high.shape)\n",
        "print ('The shape of y_val_high is: ', y_val_high.shape)"
      ],
      "metadata": {
        "colab": {
          "base_uri": "https://localhost:8080/"
        },
        "id": "aMOea7iqXQeu",
        "outputId": "c3e1b7b7-d721-40e0-b116-4756a6ae1626"
      },
      "execution_count": 18,
      "outputs": [
        {
          "output_type": "execute_result",
          "data": {
            "text/plain": [
              "array([[-1],\n",
              "       [ 0],\n",
              "       [ 0],\n",
              "       [ 1],\n",
              "       [-1]])"
            ]
          },
          "metadata": {},
          "execution_count": 18
        }
      ]
    },
    {
      "cell_type": "code",
      "source": [
        "# Apply the same steps to the larger dataset\n",
        "\n",
        "# Estimate the Gaussian parameters\n",
        "mu_high, var_high = estimate_gaussian(X_train_high)\n",
        "\n",
        "# Evaluate the probabilites for the training set\n",
        "p_high = multivariate_gaussian(X_train_high, mu_high, var_high)\n",
        "\n",
        "# Evaluate the probabilites for the cross validation set\n",
        "p_val_high = multivariate_gaussian(X_val_high, mu_high, var_high)\n",
        "\n",
        "# Find the best threshold\n",
        "epsilon_high, F1_high = select_threshold(y_val_high, p_val_high)\n",
        "\n",
        "print('Best epsilon found using cross-validation: %e'% epsilon_high)\n",
        "print('Best F1 on Cross Validation Set:  %f'% F1_high)\n",
        "print('# Anomalies found: %d'% sum(p_high < epsilon_high))"
      ],
      "metadata": {
        "colab": {
          "base_uri": "https://localhost:8080/"
        },
        "id": "0AIeGxhbXQhZ",
        "outputId": "ebedf9b5-e114-4ad9-9f0c-bce68ac9fa19"
      },
      "execution_count": 19,
      "outputs": [
        {
          "output_type": "execute_result",
          "data": {
            "text/plain": [
              "2"
            ]
          },
          "metadata": {},
          "execution_count": 19
        }
      ]
    }
  ]
}