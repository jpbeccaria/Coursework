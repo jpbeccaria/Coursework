{
  "nbformat": 4,
  "nbformat_minor": 0,
  "metadata": {
    "colab": {
      "provenance": [],
      "authorship_tag": "ABX9TyM2r3N8LkZNUT6A1JlL6pdR",
      "include_colab_link": true
    },
    "kernelspec": {
      "name": "python3",
      "display_name": "Python 3"
    },
    "language_info": {
      "name": "python"
    }
  },
  "cells": [
    {
      "cell_type": "markdown",
      "metadata": {
        "id": "view-in-github",
        "colab_type": "text"
      },
      "source": [
        "<a href=\"https://colab.research.google.com/github/jpbeccaria/Playroom/blob/main/Neural_Networks_for_Handwritten_Digit_Recognition%2C_Multiclass.ipynb\" target=\"_parent\"><img src=\"https://colab.research.google.com/assets/colab-badge.svg\" alt=\"Open In Colab\"/></a>"
      ]
    },
    {
      "cell_type": "code",
      "execution_count": null,
      "metadata": {
        "id": "Q9bORdQfgHgg"
      },
      "outputs": [],
      "source": [
        " \n",
        "\n",
        " import numpy as np\n",
        "import tensorflow as tf\n",
        "from tensorflow.keras.models import Sequential\n",
        "from tensorflow.keras.layers import Dense\n",
        "from tensorflow.keras.activations import linear, relu, sigmoid\n",
        "%matplotlib widget\n",
        "import matplotlib.pyplot as plt\n",
        "plt.style.use('./deeplearning.mplstyle')\n",
        "\n",
        "import logging\n",
        "logging.getLogger(\"tensorflow\").setLevel(logging.ERROR)\n",
        "tf.autograph.set_verbosity(0)\n",
        "\n",
        "from public_tests import * \n",
        "\n",
        "from autils import *\n",
        "from lab_utils_softmax import plt_softmax\n",
        "np.set_printoptions(precision=2)"
      ]
    },
    {
      "cell_type": "code",
      "source": [
        "# load dataset\n",
        "X, y = load_data()"
      ],
      "metadata": {
        "id": "Kw9GxWdMgT2A"
      },
      "execution_count": null,
      "outputs": []
    },
    {
      "cell_type": "code",
      "source": [
        "# Exploramos el dataset\n",
        "print ('The first element of X is: ', X[0])"
      ],
      "metadata": {
        "id": "HFWZvvx_gT4k"
      },
      "execution_count": null,
      "outputs": []
    },
    {
      "cell_type": "code",
      "source": [
        "print ('The first element of y is: ', y[0,0])\n",
        "print ('The last element of y is: ', y[-1,0])"
      ],
      "metadata": {
        "id": "R2oAekl7gT68"
      },
      "execution_count": null,
      "outputs": []
    },
    {
      "cell_type": "code",
      "source": [
        "# Miramos la dimensiones de los data sets para ver shi hace falta alguna edición\n",
        "print ('The shape of X is: ' + str(X.shape))\n",
        "print ('The shape of y is: ' + str(y.shape))"
      ],
      "metadata": {
        "id": "Mh-PddEVgT9n"
      },
      "execution_count": null,
      "outputs": []
    },
    {
      "cell_type": "code",
      "source": [
        "import warnings\n",
        "warnings.simplefilter(action='ignore', category=FutureWarning)\n",
        "# You do not need to modify anything in this cell\n",
        "\n",
        "m, n = X.shape\n",
        "\n",
        "fig, axes = plt.subplots(8,8, figsize=(5,5))\n",
        "fig.tight_layout(pad=0.13,rect=[0, 0.03, 1, 0.91]) #[left, bottom, right, top]\n",
        "\n",
        "#fig.tight_layout(pad=0.5)\n",
        "widgvis(fig)\n",
        "for i,ax in enumerate(axes.flat):\n",
        "    # Select random indices\n",
        "    random_index = np.random.randint(m)\n",
        "    \n",
        "    # Select rows corresponding to the random indices and\n",
        "    # reshape the image\n",
        "    X_random_reshaped = X[random_index].reshape((20,20)).T\n",
        "    \n",
        "    # Display the image\n",
        "    ax.imshow(X_random_reshaped, cmap='gray')\n",
        "    \n",
        "    # Display the label above the image\n",
        "    ax.set_title(y[random_index,0])\n",
        "    ax.set_axis_off()\n",
        "    fig.suptitle(\"Label, image\", fontsize=14)"
      ],
      "metadata": {
        "id": "WEvytXzJgUAP"
      },
      "execution_count": null,
      "outputs": []
    },
    {
      "cell_type": "code",
      "source": [
        "# Creamos la red. Uso una output layer lineal porque despues en la compilación se agrega el componente Softmax. De esta manera se minimiza el error de redondeo.\n",
        "\n",
        "tf.random.set_seed(1234) # for consistent results\n",
        "model = Sequential(\n",
        "    [ \n",
        "        Dense(25, activation = 'relu'),\n",
        "        Dense(15, activation = 'relu'),\n",
        "        Dense(10, activation = \"linear\")\n",
        "\n",
        "    ], name = \"my_model\" \n",
        ")"
      ],
      "metadata": {
        "id": "2KkfYagpgUC4"
      },
      "execution_count": null,
      "outputs": []
    },
    {
      "cell_type": "code",
      "source": [
        "# Compilamos\n",
        "model.compile(\n",
        "    loss=tf.keras.losses.SparseCategoricalCrossentropy(from_logits=True),\n",
        "    optimizer=tf.keras.optimizers.Adam(learning_rate=0.001),\n",
        ")\n",
        "\n",
        "history = model.fit(\n",
        "    X,y,\n",
        "    epochs=40\n",
        ")"
      ],
      "metadata": {
        "id": "zuEISUQZlIXg"
      },
      "execution_count": null,
      "outputs": []
    },
    {
      "cell_type": "code",
      "source": [
        "plot_loss_tf(history)"
      ],
      "metadata": {
        "id": "Zeugu95QlLl7"
      },
      "execution_count": null,
      "outputs": []
    },
    {
      "cell_type": "code",
      "source": [
        "# Jugamos un poco \n",
        "image_of_two = X[1015]\n",
        "display_digit(image_of_two)\n",
        "\n",
        "prediction = model.predict(image_of_two.reshape(1,400))  # prediction\n",
        "\n",
        "print(f\" predicting a Two: \\n{prediction}\")\n",
        "print(f\" Largest Prediction index: {np.argmax(prediction)}\")"
      ],
      "metadata": {
        "id": "jyH-M1D0lNJn"
      },
      "execution_count": null,
      "outputs": []
    },
    {
      "cell_type": "code",
      "source": [
        "prediction_p = tf.nn.softmax(prediction)\n",
        "\n",
        "print(f\" predicting a Two. Probability vector: \\n{prediction_p}\")\n",
        "print(f\"Total of predictions: {np.sum(prediction_p):0.3f}\")"
      ],
      "metadata": {
        "id": "ADebdL81lO-l"
      },
      "execution_count": null,
      "outputs": []
    }
  ]
}