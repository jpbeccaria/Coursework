{
  "nbformat": 4,
  "nbformat_minor": 0,
  "metadata": {
    "colab": {
      "provenance": [],
      "authorship_tag": "ABX9TyPqC4VIZVxt9o9RYNAg3aIq",
      "include_colab_link": true
    },
    "kernelspec": {
      "name": "python3",
      "display_name": "Python 3"
    },
    "language_info": {
      "name": "python"
    }
  },
  "cells": [
    {
      "cell_type": "markdown",
      "metadata": {
        "id": "view-in-github",
        "colab_type": "text"
      },
      "source": [
        "<a href=\"https://colab.research.google.com/github/jpbeccaria/Playroom/blob/main/Image_compression_with_K_means_(from_the_scratch).ipynb\" target=\"_parent\"><img src=\"https://colab.research.google.com/assets/colab-badge.svg\" alt=\"Open In Colab\"/></a>"
      ]
    },
    {
      "cell_type": "code",
      "execution_count": 21,
      "metadata": {
        "colab": {
          "base_uri": "https://localhost:8080/"
        },
        "id": "YLm2Uw5z2M3H",
        "outputId": "246c9591-3f08-417e-f11c-99d01a0c86cc"
      },
      "outputs": [
        {
          "output_type": "stream",
          "name": "stdout",
          "text": [
            "Looking in indexes: https://pypi.org/simple, https://us-python.pkg.dev/colab-wheels/public/simple/\n",
            "Collecting utils\n",
            "  Downloading utils-1.0.1-py2.py3-none-any.whl (21 kB)\n",
            "Installing collected packages: utils\n",
            "Successfully installed utils-1.0.1\n"
          ]
        }
      ],
      "source": [
        "import numpy as np\n",
        "import matplotlib.pyplot as plt\n",
        "!pip install utils\n",
        "from utils import *"
      ]
    },
    {
      "cell_type": "code",
      "source": [
        "%matplotlib inline"
      ],
      "metadata": {
        "id": "fJVg0vqvDVx_"
      },
      "execution_count": 23,
      "outputs": []
    },
    {
      "cell_type": "code",
      "source": [
        "\n",
        "def find_closest_centroids(X, centroids):\n",
        "    \"\"\"\n",
        "    Computes the centroid memberships for every example\n",
        "    \n",
        "    Args:\n",
        "        X (ndarray): (m, n) Input values      \n",
        "        centroids (ndarray): (K, n) centroids\n",
        "    \n",
        "    Returns:\n",
        "        idx (array_like): (m,) closest centroids\n",
        "    \n",
        "    \"\"\"\n",
        "\n",
        "    # Set K\n",
        "    K = centroids.shape[0]\n",
        "\n",
        "    idx = np.zeros(X.shape[0], dtype=int)\n",
        "\n",
        "    for i in range(X.shape[0]):   #para cada training example\n",
        "        distances = []\n",
        "        for j in range(centroids.shape[0]):    # calculamos la distancia con cada centriolo\n",
        "            \n",
        "         #calculamos la distancia euclidia cuadrada entre los dos vectores\n",
        "            dist_euc = (np.linalg.norm(X[i] - centroids[j]))**2   \n",
        "            distances.append(dist_euc)  # y la guardamos en una lista de distancias\n",
        "        idx[i] = np.argmin(distances)   #finalmente, para ese caso, nos quedamos con el centriolo con el que tenga menor distancia\n",
        "     \n",
        "\n",
        "    \n",
        "    return idx"
      ],
      "metadata": {
        "id": "DTR4210B2Sdu"
      },
      "execution_count": null,
      "outputs": []
    },
    {
      "cell_type": "code",
      "source": [
        "def compute_centroids(X, idx, K):\n",
        "    \"\"\"\n",
        "    Returns the new centroids by computing the means of the \n",
        "    data points assigned to each centroid.\n",
        "    \n",
        "    Args:\n",
        "        X (ndarray):   (m, n) Data points\n",
        "        idx (ndarray): (m,) Array containing index of closest centroid for each \n",
        "                       example in X. Concretely, idx[i] contains the index of \n",
        "                       the centroid closest to example i\n",
        "        K (int):       number of centroids\n",
        "    \n",
        "    Returns:\n",
        "        centroids (ndarray): (K, n) New centroids computed\n",
        "    \"\"\"\n",
        "    \n",
        "    m, n = X.shape\n",
        "    \n",
        "    centroids = np.zeros((K, n))\n",
        "  \n",
        "    for k in range(K):     # camos iterando sobre el número de centríolos\n",
        "        puntos_asociados_k = []           #creamos una lista que va a contener los puntos que esten asociad a ese centriolo\n",
        "        for i in range(idx.shape[0]):   # vamos a iterar sobre los indices y casos\n",
        "            if idx[i] == k:             # Si caso esta asociado a un centriolo (su indice es = al centriolo)\n",
        "                puntos_asociados_k.append(X[i])    #entonces me lo llevo\n",
        "        \n",
        "        # el centriolo k ahora tendra una ubicacion que sera el vector medio de los puntos asociados a él\n",
        "        centroids[k] = np.mean(puntos_asociados_k, axis = 0) \n",
        "\n",
        "    \n",
        "    return centroids"
      ],
      "metadata": {
        "id": "-XrmPebX2Slg"
      },
      "execution_count": 17,
      "outputs": []
    },
    {
      "cell_type": "code",
      "source": [
        "def run_kMeans(X, initial_centroids, max_iters=10, plot_progress=False):\n",
        "    \"\"\"\n",
        "    Runs the K-Means algorithm on data matrix X, where each row of X\n",
        "    is a single example\n",
        "    \"\"\"\n",
        "    \n",
        "    # Initialize values\n",
        "    m, n = X.shape\n",
        "    K = initial_centroids.shape[0]\n",
        "    centroids = initial_centroids\n",
        "    previous_centroids = centroids    \n",
        "    idx = np.zeros(m)\n",
        "    plt.figure(figsize=(8, 6))\n",
        "\n",
        "    # Run K-Means\n",
        "    for i in range(max_iters):\n",
        "        \n",
        "        #Output progress\n",
        "        print(\"K-Means iteration %d/%d\" % (i, max_iters-1))\n",
        "        \n",
        "        # For each example in X, assign it to the closest centroid\n",
        "        idx = find_closest_centroids(X, centroids)\n",
        "        \n",
        "        # Optionally plot progress\n",
        "        if plot_progress:\n",
        "            plot_progress_kMeans(X, centroids, previous_centroids, idx, K, i)\n",
        "            previous_centroids = centroids\n",
        "            \n",
        "        # Given the memberships, compute new centroids\n",
        "        centroids = compute_centroids(X, idx, K)\n",
        "    plt.show() \n",
        "    return centroids, idx"
      ],
      "metadata": {
        "id": "Znzp_xNu2SoD"
      },
      "execution_count": 18,
      "outputs": []
    },
    {
      "cell_type": "code",
      "source": [
        "# Load an example dataset\n",
        "X = load_data()\n",
        "\n",
        "# Set initial centroids\n",
        "initial_centroids = np.array([[3,3],[6,2],[8,5]])\n",
        "\n",
        "# Number of iterations\n",
        "max_iters = 10\n",
        "\n",
        "# Run K-Means\n",
        "centroids, idx = run_kMeans(X, initial_centroids, max_iters, plot_progress=True)"
      ],
      "metadata": {
        "colab": {
          "base_uri": "https://localhost:8080/",
          "height": 235
        },
        "id": "QydJNT9C2Sqt",
        "outputId": "087e9fd9-d814-4b76-e177-8b650268f01a"
      },
      "execution_count": 24,
      "outputs": [
        {
          "output_type": "error",
          "ename": "NameError",
          "evalue": "ignored",
          "traceback": [
            "\u001b[0;31m---------------------------------------------------------------------------\u001b[0m",
            "\u001b[0;31mNameError\u001b[0m                                 Traceback (most recent call last)",
            "\u001b[0;32m<ipython-input-24-07d86d60649e>\u001b[0m in \u001b[0;36m<cell line: 2>\u001b[0;34m()\u001b[0m\n\u001b[1;32m      1\u001b[0m \u001b[0;31m# Load an example dataset\u001b[0m\u001b[0;34m\u001b[0m\u001b[0;34m\u001b[0m\u001b[0m\n\u001b[0;32m----> 2\u001b[0;31m \u001b[0mX\u001b[0m \u001b[0;34m=\u001b[0m \u001b[0mload_data\u001b[0m\u001b[0;34m(\u001b[0m\u001b[0;34m)\u001b[0m\u001b[0;34m\u001b[0m\u001b[0;34m\u001b[0m\u001b[0m\n\u001b[0m\u001b[1;32m      3\u001b[0m \u001b[0;34m\u001b[0m\u001b[0m\n\u001b[1;32m      4\u001b[0m \u001b[0;31m# Set initial centroids\u001b[0m\u001b[0;34m\u001b[0m\u001b[0;34m\u001b[0m\u001b[0m\n\u001b[1;32m      5\u001b[0m \u001b[0minitial_centroids\u001b[0m \u001b[0;34m=\u001b[0m \u001b[0mnp\u001b[0m\u001b[0;34m.\u001b[0m\u001b[0marray\u001b[0m\u001b[0;34m(\u001b[0m\u001b[0;34m[\u001b[0m\u001b[0;34m[\u001b[0m\u001b[0;36m3\u001b[0m\u001b[0;34m,\u001b[0m\u001b[0;36m3\u001b[0m\u001b[0;34m]\u001b[0m\u001b[0;34m,\u001b[0m\u001b[0;34m[\u001b[0m\u001b[0;36m6\u001b[0m\u001b[0;34m,\u001b[0m\u001b[0;36m2\u001b[0m\u001b[0;34m]\u001b[0m\u001b[0;34m,\u001b[0m\u001b[0;34m[\u001b[0m\u001b[0;36m8\u001b[0m\u001b[0;34m,\u001b[0m\u001b[0;36m5\u001b[0m\u001b[0;34m]\u001b[0m\u001b[0;34m]\u001b[0m\u001b[0;34m)\u001b[0m\u001b[0;34m\u001b[0m\u001b[0;34m\u001b[0m\u001b[0m\n",
            "\u001b[0;31mNameError\u001b[0m: name 'load_data' is not defined"
          ]
        }
      ]
    },
    {
      "cell_type": "code",
      "source": [
        "def kMeans_init_centroids(X, K):\n",
        "    \"\"\"\n",
        "    This function initializes K centroids that are to be \n",
        "    used in K-Means on the dataset X\n",
        "    \n",
        "    Args:\n",
        "        X (ndarray): Data points \n",
        "        K (int):     number of centroids/clusters\n",
        "    \n",
        "    Returns:\n",
        "        centroids (ndarray): Initialized centroids\n",
        "    \"\"\"\n",
        "    \n",
        "    # Randomly reorder the indices of examples\n",
        "    randidx = np.random.permutation(X.shape[0])\n",
        "    \n",
        "    # Take the first K examples as centroids\n",
        "    centroids = X[randidx[:K]]\n",
        "    \n",
        "    return centroids"
      ],
      "metadata": {
        "id": "WXQxRIfA2StZ"
      },
      "execution_count": null,
      "outputs": []
    },
    {
      "cell_type": "code",
      "source": [
        "# Set number of centroids and max number of iterations\n",
        "K = 3\n",
        "max_iters = 10\n",
        "\n",
        "# Set initial centroids by picking random examples from the dataset\n",
        "initial_centroids = kMeans_init_centroids(X, K)\n",
        "\n",
        "# Run K-Means\n",
        "centroids, idx = run_kMeans(X, initial_centroids, max_iters, plot_progress=True)"
      ],
      "metadata": {
        "id": "3vBjy6vj2Sv_"
      },
      "execution_count": null,
      "outputs": []
    },
    {
      "cell_type": "code",
      "source": [
        "# Load an image of a bird\n",
        "original_img = plt.imread('bird_small.png')"
      ],
      "metadata": {
        "id": "6CcCBeBT2SyF"
      },
      "execution_count": null,
      "outputs": []
    },
    {
      "cell_type": "code",
      "source": [
        "# Visualizing the image\n",
        "plt.imshow(original_img)"
      ],
      "metadata": {
        "id": "1WQdmwAHEJto"
      },
      "execution_count": null,
      "outputs": []
    },
    {
      "cell_type": "code",
      "source": [
        "print(\"Shape of original_img is:\", original_img.shape)"
      ],
      "metadata": {
        "id": "Nuy7F3-BEJwD"
      },
      "execution_count": null,
      "outputs": []
    },
    {
      "cell_type": "code",
      "source": [
        "# Divide by 255 so that all values are in the range 0 - 1 (not needed for PNG files)\n",
        "# original_img = original_img / 255\n",
        "\n",
        "# Reshape the image into an m x 3 matrix where m = number of pixels\n",
        "# (in this case m = 128 x 128 = 16384)\n",
        "# Each row will contain the Red, Green and Blue pixel values\n",
        "# This gives us our dataset matrix X_img that we will use K-Means on.\n",
        "\n",
        "X_img = np.reshape(original_img, (original_img.shape[0] * original_img.shape[1], 3))"
      ],
      "metadata": {
        "id": "uhVIk_gqEJym"
      },
      "execution_count": null,
      "outputs": []
    },
    {
      "cell_type": "code",
      "source": [
        "# Run your K-Means algorithm on this data\n",
        "# You should try different values of K and max_iters here\n",
        "K = 16\n",
        "max_iters = 10\n",
        "\n",
        "# Using the function you have implemented above. \n",
        "initial_centroids = kMeans_init_centroids(X_img, K)\n",
        "\n",
        "# Run K-Means - this can take a couple of minutes depending on K and max_iters\n",
        "centroids, idx = run_kMeans(X_img, initial_centroids, max_iters)"
      ],
      "metadata": {
        "id": "lMyupbODEJ0z"
      },
      "execution_count": null,
      "outputs": []
    },
    {
      "cell_type": "code",
      "source": [
        "print(\"Shape of idx:\", idx.shape)\n",
        "print(\"Closest centroid for the first five elements:\", idx[:5])"
      ],
      "metadata": {
        "id": "YGg0q_A6EPLr"
      },
      "execution_count": null,
      "outputs": []
    },
    {
      "cell_type": "code",
      "source": [
        "# Plot the colors of the image and mark the centroids\n",
        "plot_kMeans_RGB(X_img, centroids, idx, K)"
      ],
      "metadata": {
        "id": "1monvE6GEPOW"
      },
      "execution_count": null,
      "outputs": []
    },
    {
      "cell_type": "code",
      "source": [
        "# Visualize the 16 colors selected\n",
        "show_centroid_colors(centroids)"
      ],
      "metadata": {
        "id": "82U5cqVrEPRE"
      },
      "execution_count": null,
      "outputs": []
    },
    {
      "cell_type": "code",
      "source": [
        "# Find the closest centroid of each pixel\n",
        "idx = find_closest_centroids(X_img, centroids)\n",
        "\n",
        "# Replace each pixel with the color of the closest centroid\n",
        "X_recovered = centroids[idx, :] \n",
        "\n",
        "# Reshape image into proper dimensions\n",
        "X_recovered = np.reshape(X_recovered, original_img.shape) "
      ],
      "metadata": {
        "id": "6UBn14LmEPix"
      },
      "execution_count": null,
      "outputs": []
    },
    {
      "cell_type": "code",
      "source": [
        "# Display original image\n",
        "fig, ax = plt.subplots(1,2, figsize=(16,16))\n",
        "plt.axis('off')\n",
        "\n",
        "ax[0].imshow(original_img)\n",
        "ax[0].set_title('Original')\n",
        "ax[0].set_axis_off()\n",
        "\n",
        "\n",
        "# Display compressed image\n",
        "ax[1].imshow(X_recovered)\n",
        "ax[1].set_title('Compressed with %d colours'%K)\n",
        "ax[1].set_axis_off()"
      ],
      "metadata": {
        "id": "A-CrL7OOEPlS"
      },
      "execution_count": null,
      "outputs": []
    }
  ]
}