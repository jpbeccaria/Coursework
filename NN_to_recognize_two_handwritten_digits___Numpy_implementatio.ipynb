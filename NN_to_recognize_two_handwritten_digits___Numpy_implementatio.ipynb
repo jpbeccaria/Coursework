{
  "nbformat": 4,
  "nbformat_minor": 0,
  "metadata": {
    "colab": {
      "provenance": [],
      "authorship_tag": "ABX9TyPeXCTM29bu+WvDFO/ZzDGf",
      "include_colab_link": true
    },
    "kernelspec": {
      "name": "python3",
      "display_name": "Python 3"
    },
    "language_info": {
      "name": "python"
    }
  },
  "cells": [
    {
      "cell_type": "markdown",
      "metadata": {
        "id": "view-in-github",
        "colab_type": "text"
      },
      "source": [
        "<a href=\"https://colab.research.google.com/github/jpbeccaria/Playroom/blob/main/NN_to_recognize_two_handwritten_digits___Numpy_implementatio.ipynb\" target=\"_parent\"><img src=\"https://colab.research.google.com/assets/colab-badge.svg\" alt=\"Open In Colab\"/></a>"
      ]
    },
    {
      "cell_type": "code",
      "execution_count": 1,
      "metadata": {
        "colab": {
          "base_uri": "https://localhost:8080/",
          "height": 373
        },
        "id": "EaQNdZAyK-2T",
        "outputId": "9760fb89-9688-40ce-8bdd-236177ddf1b0"
      },
      "outputs": [
        {
          "output_type": "error",
          "ename": "ModuleNotFoundError",
          "evalue": "ignored",
          "traceback": [
            "\u001b[0;31m---------------------------------------------------------------------------\u001b[0m",
            "\u001b[0;31mModuleNotFoundError\u001b[0m                       Traceback (most recent call last)",
            "\u001b[0;32m<ipython-input-1-e800b6686fec>\u001b[0m in \u001b[0;36m<module>\u001b[0;34m\u001b[0m\n\u001b[1;32m      1\u001b[0m \u001b[0;32mimport\u001b[0m \u001b[0mnumpy\u001b[0m \u001b[0;32mas\u001b[0m \u001b[0mnp\u001b[0m\u001b[0;34m\u001b[0m\u001b[0;34m\u001b[0m\u001b[0m\n\u001b[1;32m      2\u001b[0m \u001b[0;32mimport\u001b[0m \u001b[0mmatplotlib\u001b[0m\u001b[0;34m.\u001b[0m\u001b[0mpyplot\u001b[0m \u001b[0;32mas\u001b[0m \u001b[0mplt\u001b[0m\u001b[0;34m\u001b[0m\u001b[0;34m\u001b[0m\u001b[0m\n\u001b[0;32m----> 3\u001b[0;31m \u001b[0;32mfrom\u001b[0m \u001b[0mautils\u001b[0m \u001b[0;32mimport\u001b[0m \u001b[0;34m*\u001b[0m\u001b[0;34m\u001b[0m\u001b[0;34m\u001b[0m\u001b[0m\n\u001b[0m\u001b[1;32m      4\u001b[0m \u001b[0mget_ipython\u001b[0m\u001b[0;34m(\u001b[0m\u001b[0;34m)\u001b[0m\u001b[0;34m.\u001b[0m\u001b[0mrun_line_magic\u001b[0m\u001b[0;34m(\u001b[0m\u001b[0;34m'matplotlib'\u001b[0m\u001b[0;34m,\u001b[0m \u001b[0;34m'inline'\u001b[0m\u001b[0;34m)\u001b[0m\u001b[0;34m\u001b[0m\u001b[0;34m\u001b[0m\u001b[0m\n\u001b[1;32m      5\u001b[0m \u001b[0;32mimport\u001b[0m \u001b[0mlogging\u001b[0m\u001b[0;34m\u001b[0m\u001b[0;34m\u001b[0m\u001b[0m\n",
            "\u001b[0;31mModuleNotFoundError\u001b[0m: No module named 'autils'",
            "",
            "\u001b[0;31m---------------------------------------------------------------------------\u001b[0;32m\nNOTE: If your import is failing due to a missing package, you can\nmanually install dependencies using either !pip or !apt.\n\nTo view examples of installing some common dependencies, click the\n\"Open Examples\" button below.\n\u001b[0;31m---------------------------------------------------------------------------\u001b[0m\n"
          ],
          "errorDetails": {
            "actions": [
              {
                "action": "open_url",
                "actionText": "Open Examples",
                "url": "/notebooks/snippets/importing_libraries.ipynb"
              }
            ]
          }
        }
      ],
      "source": [
        "import numpy as np\n",
        "import matplotlib.pyplot as plt\n",
        "from autils import *\n",
        "%matplotlib inline\n",
        "import logging\n",
        "logging.getLogger(\"tensorflow\").setLevel(logging.ERROR)\n",
        "tf.autograph.set_verbosity(0)"
      ]
    },
    {
      "cell_type": "code",
      "source": [
        "X, y = load_data()"
      ],
      "metadata": {
        "id": "gw3CgNBgLuG5"
      },
      "execution_count": null,
      "outputs": []
    },
    {
      "cell_type": "code",
      "source": [
        "# Exploring date\n",
        "\n",
        "print ('The first element of X is: ', X[0])\n",
        "\n",
        "print ('The first element of y is: ', y[0,0])\n",
        "print ('The last element of y is: ', y[-1,0])"
      ],
      "metadata": {
        "id": "yjqONK-qLuNx"
      },
      "execution_count": null,
      "outputs": []
    },
    {
      "cell_type": "code",
      "source": [
        "print ('The shape of X is: ' + str(X.shape))\n",
        "print ('The shape of y is: ' + str(y.shape))"
      ],
      "metadata": {
        "id": "gTjJQrEULuSl"
      },
      "execution_count": null,
      "outputs": []
    },
    {
      "cell_type": "code",
      "source": [
        "import warnings\n",
        "warnings.simplefilter(action='ignore', category=FutureWarning)\n",
        "# You do not need to modify anything in this cell\n",
        "\n",
        "m, n = X.shape\n",
        "\n",
        "fig, axes = plt.subplots(8,8, figsize=(8,8))\n",
        "fig.tight_layout(pad=0.1)\n",
        "\n",
        "for i,ax in enumerate(axes.flat):\n",
        "    # Select random indices\n",
        "    random_index = np.random.randint(m)\n",
        "    \n",
        "    # Select rows corresponding to the random indices and\n",
        "    # reshape the image\n",
        "    X_random_reshaped = X[random_index].reshape((20,20)).T\n",
        "    \n",
        "    # Display the image\n",
        "    ax.imshow(X_random_reshaped, cmap='gray')\n",
        "    \n",
        "    # Display the label above the image\n",
        "    ax.set_title(y[random_index,0])\n",
        "    ax.set_axis_off()"
      ],
      "metadata": {
        "id": "I5Y90AlILuWk"
      },
      "execution_count": null,
      "outputs": []
    },
    {
      "cell_type": "code",
      "source": [
        "# my_dense\n",
        "g = sigmoid\n",
        "\n",
        "def my_dense(a_in, W, b, g):\n",
        "    \"\"\"\n",
        "    Computes dense layer\n",
        "    Args:\n",
        "      a_in (ndarray (n, )) : Data, 1 example \n",
        "      W    (ndarray (n,j)) : Weight matrix, n features per unit, j units\n",
        "      b    (ndarray (j, )) : bias vector, j units  \n",
        "      g    activation function (e.g. sigmoid, relu..)\n",
        "    Returns\n",
        "      a_out (ndarray (j,))  : j units\n",
        "    \"\"\"\n",
        "\n",
        "    units = W.shape[1]\n",
        "    a_out = np.zeros(units)\n",
        "    for j in range(units):               \n",
        "        w = W[:,j]                                    \n",
        "        z = np.dot(w, a_in) + b[j]         \n",
        "        a_out[j] = g(z)                   \n",
        "        \n",
        "### END CODE HERE ### \n",
        "    return(a_out)\n"
      ],
      "metadata": {
        "id": "5bXeEowvL0Er"
      },
      "execution_count": null,
      "outputs": []
    },
    {
      "cell_type": "code",
      "source": [
        "def my_sequential(x, W1, b1, W2, b2, W3, b3):\n",
        "    a1 = my_dense(x,  W1, b1, sigmoid)\n",
        "    a2 = my_dense(a1, W2, b2, sigmoid)\n",
        "    a3 = my_dense(a2, W3, b3, sigmoid)\n",
        "    return(a3)"
      ],
      "metadata": {
        "id": "RaYI-rqbL_kJ"
      },
      "execution_count": null,
      "outputs": []
    },
    {
      "cell_type": "code",
      "source": [
        "W1_tmp,b1_tmp = layer1.get_weights()\n",
        "W2_tmp,b2_tmp = layer2.get_weights()\n",
        "W3_tmp,b3_tmp = layer3.get_weights()"
      ],
      "metadata": {
        "id": "Q39XqG5JMETR"
      },
      "execution_count": null,
      "outputs": []
    },
    {
      "cell_type": "code",
      "source": [
        "# make predictions\n",
        "prediction = my_sequential(X[0], W1_tmp, b1_tmp, W2_tmp, b2_tmp, W3_tmp, b3_tmp )\n",
        "if prediction >= 0.5:\n",
        "    yhat = 1\n",
        "else:\n",
        "    yhat = 0\n",
        "print( \"yhat = \", yhat, \" label= \", y[0,0])\n",
        "prediction = my_sequential(X[500], W1_tmp, b1_tmp, W2_tmp, b2_tmp, W3_tmp, b3_tmp )\n",
        "if prediction >= 0.5:\n",
        "    yhat = 1\n",
        "else:\n",
        "    yhat = 0\n",
        "print( \"yhat = \", yhat, \" label= \", y[500,0])"
      ],
      "metadata": {
        "id": "Y_soAdkDML9j"
      },
      "execution_count": null,
      "outputs": []
    },
    {
      "cell_type": "code",
      "source": [
        "import warnings\n",
        "warnings.simplefilter(action='ignore', category=FutureWarning)\n",
        "# You do not need to modify anything in this cell\n",
        "\n",
        "m, n = X.shape\n",
        "\n",
        "fig, axes = plt.subplots(8,8, figsize=(8,8))\n",
        "fig.tight_layout(pad=0.1,rect=[0, 0.03, 1, 0.92]) #[left, bottom, right, top]\n",
        "\n",
        "for i,ax in enumerate(axes.flat):\n",
        "    # Select random indices\n",
        "    random_index = np.random.randint(m)\n",
        "    \n",
        "    # Select rows corresponding to the random indices and\n",
        "    # reshape the image\n",
        "    X_random_reshaped = X[random_index].reshape((20,20)).T\n",
        "    \n",
        "    # Display the image\n",
        "    ax.imshow(X_random_reshaped, cmap='gray')\n",
        "\n",
        "    # Predict using the Neural Network implemented in Numpy\n",
        "    my_prediction = my_sequential(X[random_index], W1_tmp, b1_tmp, W2_tmp, b2_tmp, W3_tmp, b3_tmp )\n",
        "    my_yhat = int(my_prediction >= 0.5)\n",
        "\n",
        "    # Predict using the Neural Network implemented in Tensorflow\n",
        "    tf_prediction = model.predict(X[random_index].reshape(1,400))\n",
        "    tf_yhat = int(tf_prediction >= 0.5)\n",
        "    \n",
        "    # Display the label above the image\n",
        "    ax.set_title(f\"{y[random_index,0]},{tf_yhat},{my_yhat}\")\n",
        "    ax.set_axis_off() \n",
        "fig.suptitle(\"Label, yhat Tensorflow, yhat Numpy\", fontsize=16)\n",
        "plt.show()"
      ],
      "metadata": {
        "id": "Q8ulmv7iMMBY"
      },
      "execution_count": null,
      "outputs": []
    }
  ]
}